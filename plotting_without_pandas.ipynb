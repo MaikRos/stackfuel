{
 "cells": [
  {
   "cell_type": "code",
   "execution_count": 1,
   "metadata": {
    "ExecuteTime": {
     "end_time": "2018-04-02T11:16:25.151914Z",
     "start_time": "2018-04-02T11:16:23.135949Z"
    },
    "cell_style": "split"
   },
   "outputs": [],
   "source": [
    "import csv\n",
    "import matplotlib.pyplot as plt\n",
    "import requests\n",
    "%matplotlib inline"
   ]
  },
  {
   "cell_type": "code",
   "execution_count": 2,
   "metadata": {
    "ExecuteTime": {
     "end_time": "2018-04-02T11:18:47.482841Z",
     "start_time": "2018-04-02T11:18:47.467217Z"
    }
   },
   "outputs": [],
   "source": [
    "def load_csv_data(url):\n",
    "    with requests.session():\n",
    "        website = requests.get(url)\n",
    "        print(website)\n",
    "    return 0"
   ]
  },
  {
   "cell_type": "code",
   "execution_count": null,
   "metadata": {
    "cell_style": "center"
   },
   "outputs": [],
   "source": [
    "Date, Open, High, Low, Close, AdjClose, Volume = [],[],[],[],[],[],[]"
   ]
  },
  {
   "cell_type": "code",
   "execution_count": 3,
   "metadata": {
    "ExecuteTime": {
     "end_time": "2018-04-02T11:18:58.937630Z",
     "start_time": "2018-04-02T11:18:58.765737Z"
    }
   },
   "outputs": [
    {
     "name": "stdout",
     "output_type": "stream",
     "text": [
      "<Response [401]>\n"
     ]
    },
    {
     "data": {
      "text/plain": [
       "0"
      ]
     },
     "execution_count": 3,
     "metadata": {},
     "output_type": "execute_result"
    }
   ],
   "source": [
    "load_csv_data('https://query1.finance.yahoo.com/v7/finance/download/FB?period1=1522188000&period2=1522620000&interval=1d&events=history&crumb=LXqNXEHurhl')"
   ]
  },
  {
   "cell_type": "code",
   "execution_count": null,
   "metadata": {},
   "outputs": [],
   "source": [
    "with open('./data/FB.csv') as f:\n",
    "    csv_file = csv.reader(f)\n",
    "    next(csv_file, None) \n",
    "    for row in csv_file:\n",
    "        for i, name in enumerate([Date, Open, High, Low, Close, AdjClose, Volume]):\n",
    "            name.append(row[i])"
   ]
  },
  {
   "cell_type": "code",
   "execution_count": null,
   "metadata": {},
   "outputs": [],
   "source": [
    "Date[:2]"
   ]
  },
  {
   "cell_type": "code",
   "execution_count": null,
   "metadata": {},
   "outputs": [],
   "source": [
    "from datetime import datetime\n",
    "plt.plot([datetime.strptime(x, '%Y-%m-%d') for x in Date], [float(x) for x in Open])\n",
    "plt.xticks(rotation=45, ha='right')\n",
    "plt.xlabel('Date')\n",
    "plt.ylabel('Value in USD [$]');"
   ]
  }
 ],
 "metadata": {
  "kernelspec": {
   "display_name": "Python 3",
   "language": "python",
   "name": "python3"
  },
  "language_info": {
   "codemirror_mode": {
    "name": "ipython",
    "version": 3
   },
   "file_extension": ".py",
   "mimetype": "text/x-python",
   "name": "python",
   "nbconvert_exporter": "python",
   "pygments_lexer": "ipython3",
   "version": "3.6.3"
  },
  "toc": {
   "base_numbering": 1,
   "nav_menu": {},
   "number_sections": true,
   "sideBar": true,
   "skip_h1_title": false,
   "title_cell": "Table of Contents",
   "title_sidebar": "Contents",
   "toc_cell": false,
   "toc_position": {},
   "toc_section_display": true,
   "toc_window_display": false
  }
 },
 "nbformat": 4,
 "nbformat_minor": 2
}
