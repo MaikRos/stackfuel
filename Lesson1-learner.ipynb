{
 "cells": [
  {
   "cell_type": "markdown",
   "metadata": {},
   "source": [
    "# Welcome to the plotting in python lesson. \n",
    "\n",
    "1. <a href='#Task-description'>Task description</a>\n",
    "1. <a href='#CSV-files'>CSV files</a>\n",
    "1. <a href='#Part-two'>Snakes and pandas</a>\n",
    "1. <a href='#Visualization'>Visualization\n",
    "1. <a href='#Magic-functions'>Magic functions</a>\n",
    "1. <a href='#Formatting'>Plotting in depth</a>\n",
    "1. <a href='#Conclusion'>Conclusion</a>"
   ]
  },
  {
   "cell_type": "markdown",
   "metadata": {},
   "source": [
    "## Task description\n",
    "\n",
    "**&#128161; **<br>\n",
    ">Today you will learn how to gather and visualize Facebooks stock price data. <br>\n",
    ">For easy access to historical stock data we can utilize the Yahoo finance website. <br>\n",
    ">Which can be accessed here: <a href='https://finance.yahoo.com'>finance.yahoo.com</a> <br>\n",
    "***"
   ]
  },
  {
   "cell_type": "markdown",
   "metadata": {},
   "source": [
    "### Access finance.yahoo.com\n",
    "** 1. ** First of all, search for 'Facebook' and go to the 'Historical Data' tab. <br>\n",
    "** 2. ** Here, change the 'Time Period' to the last month (28.02.18-27.03.18), then click on 'Apply'. <br>\n",
    "** 3. ** Subsequently, 'Download Data', which will present you with a so called comma separated values (CSV) file. \n",
    "***"
   ]
  },
  {
   "cell_type": "markdown",
   "metadata": {},
   "source": [
    "## CSV files"
   ]
  },
  {
   "cell_type": "markdown",
   "metadata": {},
   "source": [
    "When you open the file with a text editor you will see something like this:"
   ]
  },
  {
   "cell_type": "raw",
   "metadata": {},
   "source": [
    "Date,Open,High,Low,Close,Adj Close,Volume\n",
    "2018-02-27,184.449997,184.699997,181.460007,181.460007,181.460007,15849800\n",
    "2018-02-28,182.300003,182.880005,178.139999,178.320007,178.320007,18783000"
   ]
  },
  {
   "cell_type": "markdown",
   "metadata": {},
   "source": [
    " "
   ]
  },
  {
   "cell_type": "markdown",
   "metadata": {},
   "source": [
    "**&#128161; **<br>\n",
    "><i>CSV files are essentially just spreadsheets, <br>\n",
    "> where **each line** corresponds to one **observation/row** <br>\n",
    "> and the **columns** are **seperated by comma**.</i> <br>\n",
    "> The first row usually contains something that is called a 'header', <br>\n",
    "> which contains the column/feature names.<br><br>\n",
    "\n",
    "<b>Question 1:</b> \n",
    ">In our case, following is a **list of possible candidates**, but the **order is wrong**, can you **correct the order**, <br>\n",
    "> so that it resembles the one in the CSV file? <br>\n",
    "\n",
    "<i> You can grab and pull the fields into the correct order or just rewrite their contents</i>"
   ]
  },
  {
   "cell_type": "raw",
   "metadata": {},
   "source": [
    "Open"
   ]
  },
  {
   "cell_type": "raw",
   "metadata": {},
   "source": [
    "Volume"
   ]
  },
  {
   "cell_type": "raw",
   "metadata": {},
   "source": [
    "Close"
   ]
  },
  {
   "cell_type": "raw",
   "metadata": {},
   "source": [
    "High"
   ]
  },
  {
   "cell_type": "raw",
   "metadata": {},
   "source": [
    "Adj Close"
   ]
  },
  {
   "cell_type": "raw",
   "metadata": {},
   "source": [
    "Date"
   ]
  },
  {
   "cell_type": "raw",
   "metadata": {},
   "source": [
    "Low"
   ]
  },
  {
   "cell_type": "markdown",
   "metadata": {},
   "source": [
    " "
   ]
  },
  {
   "cell_type": "markdown",
   "metadata": {},
   "source": [
    "<b>Well done!</b> <br>\n",
    "\n",
    "**Question 2:** <br>\n",
    ">Since we downloaded data for a specific time frame, how many rows should our CSV file have in total?"
   ]
  },
  {
   "cell_type": "code",
   "execution_count": null,
   "metadata": {},
   "outputs": [],
   "source": [
    "# Answer here (you should enter a number only):"
   ]
  },
  {
   "cell_type": "code",
   "execution_count": null,
   "metadata": {},
   "outputs": [],
   "source": [
    "# hint: please consider, that stock markets are closed on weekends"
   ]
  },
  {
   "cell_type": "code",
   "execution_count": null,
   "metadata": {},
   "outputs": [],
   "source": [
    "# hint 2: we also have one row for the header"
   ]
  },
  {
   "cell_type": "markdown",
   "metadata": {},
   "source": [
    "&#9989;<b> Yes, that is correct. </b><br>\n",
    "&#9989; You now understand the fundamentals of CSV files. <br>\n",
    "&#9989; We can start our project, <b>well done</b>.\n",
    "***"
   ]
  },
  {
   "cell_type": "markdown",
   "metadata": {},
   "source": [
    "<br><br><br>"
   ]
  },
  {
   "cell_type": "markdown",
   "metadata": {},
   "source": [
    "## Part two "
   ]
  },
  {
   "cell_type": "markdown",
   "metadata": {},
   "source": [
    "## About python &#128013; and pandas &#128060;"
   ]
  },
  {
   "cell_type": "markdown",
   "metadata": {},
   "source": [
    "Python is a programming language for many use-cases. <br>\n",
    "When working with data, one **essential factor** is **speed of execution** another is **flexibility**. <br>\n",
    "**Python is both flexible and fast**, which makes it a suitable candidate for data analysis. "
   ]
  },
  {
   "cell_type": "markdown",
   "metadata": {},
   "source": [
    "**&#128161; **<br>\n",
    ">For most of the day-to-day analytics work only a single library is needed in python! <br>\n",
    ">This library is called [**pandas**](https://pandas.pydata.org/pandas-docs/stable/10min.html) and is per convention imported with the short handle **pd**. <br>\n",
    "\n",
    "**Please import the library in the following cell.**"
   ]
  },
  {
   "cell_type": "code",
   "execution_count": null,
   "metadata": {},
   "outputs": [],
   "source": [
    "import ___  as ___"
   ]
  },
  {
   "cell_type": "markdown",
   "metadata": {},
   "source": [
    "<br>\n",
    "**&#128161; **<br>\n",
    ">In pandas, many different file formats (csv, json, txt, html, sql and more) can be read using the **pd.read_xxx()** notation.  <br>\n",
    "For example, to read in a **json file** you would use **pd.read_json()**. <BR>\n",
    "The file contents are then injected into a so called **dataframe**, which is the **equivalent of a spreadsheet in python**. "
   ]
  },
  {
   "cell_type": "markdown",
   "metadata": {},
   "source": [
    "### Your first dataframe &#128202;"
   ]
  },
  {
   "cell_type": "markdown",
   "metadata": {},
   "source": [
    "** It's your turn to load the stock data file into pandas. ** <br>\n",
    "&#9888; **Remember, we have a comma separated values file** &#9888; <br><br>\n",
    "**Assign it to the variable 'df'.**"
   ]
  },
  {
   "cell_type": "code",
   "execution_count": null,
   "metadata": {},
   "outputs": [],
   "source": [
    "__ = pd.read_xxx(filepath_or_buffer='./data/FB.csv')"
   ]
  },
  {
   "cell_type": "markdown",
   "metadata": {},
   "source": [
    "In order to look at the dataframe, use the **head() method on the dataframe in the next cell.**\n"
   ]
  },
  {
   "cell_type": "code",
   "execution_count": null,
   "metadata": {},
   "outputs": [],
   "source": [
    "#your answer here:"
   ]
  },
  {
   "cell_type": "markdown",
   "metadata": {},
   "source": [
    "<br>\n",
    "&#9989; csv file loaded as a &#128060; dataframe<br>\n",
    "&#9989; looked at first five rows of dataframe <br>\n",
    "<br><br>\n",
    "_Well that is nice, but what now?_<br><br>"
   ]
  },
  {
   "cell_type": "markdown",
   "metadata": {},
   "source": [
    "We will use **another library** called **qgrid**. <br>\n",
    "Qgrid makes it easier to visualize pandas dataframes and play with them.<br>\n",
    "The **qgrid.show_grid()** method **expects a dataframe as the first argument inside the parentheses.** <br><br>\n",
    "**Your turn! Add your dataframe to the code below:**"
   ]
  },
  {
   "cell_type": "code",
   "execution_count": null,
   "metadata": {},
   "outputs": [],
   "source": [
    "import qgrid\n",
    "q_df = qgrid.show_grid(__)"
   ]
  },
  {
   "cell_type": "markdown",
   "metadata": {},
   "source": [
    "**&#128161; **<br>\n",
    ">You can now look at the dataframe in an interactive format <br>\n",
    ">and play with the different columns, rows and filters, <br>\n",
    ">**just like in excel**. \n",
    "\n",
    "**Go ahead, try it! <br>\n",
    "Change values (double click), apply filters, order rows by column - anything you can imagine:**"
   ]
  },
  {
   "cell_type": "code",
   "execution_count": null,
   "metadata": {},
   "outputs": [],
   "source": [
    "q_df"
   ]
  },
  {
   "cell_type": "markdown",
   "metadata": {},
   "source": [
    "Whatever you did to the dataframe above however does only happen in this specific view. <br>\n",
    "\n",
    "**&#128161; **<br>\n",
    ">qgrid is great for looking at the data in raw form, however to visualize the data, we will need to use pandas again.<br>\n",
    ">Let us look at our pandas dataframe again. - remember the head() method?"
   ]
  },
  {
   "cell_type": "code",
   "execution_count": null,
   "metadata": {},
   "outputs": [],
   "source": [
    "#your answer here:"
   ]
  },
  {
   "cell_type": "markdown",
   "metadata": {},
   "source": [
    "**&#128161; **<br>\n",
    "> If you add a number between the parentheses the corresponding amount of rows will be shown <br>\n",
    "> **Go ahead, try it!**"
   ]
  },
  {
   "cell_type": "code",
   "execution_count": null,
   "metadata": {},
   "outputs": [],
   "source": [
    "#your answer here:"
   ]
  },
  {
   "cell_type": "markdown",
   "metadata": {},
   "source": [
    "** You are now able to**: <br>\n",
    "&#9989; load csv files into pandas dataframes <br>\n",
    "&#9989; use a qgrid view to interact with the data <br>\n",
    "&#9989; look at a specific amount of rows using the head() method<br>\n",
    "\n",
    "***"
   ]
  },
  {
   "cell_type": "markdown",
   "metadata": {},
   "source": [
    "<br><br>"
   ]
  },
  {
   "cell_type": "markdown",
   "metadata": {},
   "source": [
    "## Visualization"
   ]
  },
  {
   "cell_type": "markdown",
   "metadata": {},
   "source": [
    "**The goal of this exercise is to visualize stock data - Lets turn data into plots.**"
   ]
  },
  {
   "cell_type": "markdown",
   "metadata": {},
   "source": [
    "**&#128161; **<br>\n",
    "> pandas has a builtin method that makes visualizing dataframes super easy for us - **plot()**.\n",
    "\n",
    "<br><br>\n",
    "\n",
    "**Go ahead, call plot() on your dataframe!**"
   ]
  },
  {
   "cell_type": "code",
   "execution_count": null,
   "metadata": {},
   "outputs": [],
   "source": [
    "#your answer here:"
   ]
  },
  {
   "cell_type": "markdown",
   "metadata": {},
   "source": [
    "&#10068;&#10068;&#10068; **HUH! What happened? Where is the plot? ** &#10068;&#10068;&#10068;<br>\n",
    ">&#10097;&#10097; **It is generated as an object in the background, which makes it very hard to find.** &#10096;&#10096;<br>\n",
    "\n",
    "&#10068;&#10068;&#10068; **How do we change that? ** &#10068;&#10068;&#10068;<br> \n",
    ">&#10097;&#10097; **We will use a magic function!** &#10096;&#10096;"
   ]
  },
  {
   "cell_type": "markdown",
   "metadata": {},
   "source": [
    "## Magic functions\n",
    "<br>\n",
    "**&#128161; **<br>\n",
    "> In jupyter notebooks magic functions are lead by **%**. <br>\n",
    "> One of the most common usages is _**%matplotlib inline**_,<br>\n",
    "> which generates the plots inside the notebook. <br>\n",
    "> _hint: If you use '%matplotlib inline' in the first cell of the notebook, <br>\n",
    "> all subsequent cells will be affected._\n",
    "\n",
    "**Go ahead use the magic function in the next cell, followed by the plot method on your dataframe.**"
   ]
  },
  {
   "cell_type": "markdown",
   "metadata": {},
   "source": [
    "**&#128161; **<br>\n",
    ">**If you want to remove the &#60;matplotlib.axes._subplots.AxesSubplot at 0x...&#62; output, <br>\n",
    "> just add a semi-colon at the end of your plot() method - like this: plot();** "
   ]
  },
  {
   "cell_type": "code",
   "execution_count": null,
   "metadata": {},
   "outputs": [],
   "source": [
    "#your answer here:"
   ]
  },
  {
   "cell_type": "markdown",
   "metadata": {},
   "source": [
    "&#9989; **Your first plot!** <br>"
   ]
  },
  {
   "cell_type": "markdown",
   "metadata": {},
   "source": [
    "**Apparently, we have one column, that contains incredibly large values? which one is that?**"
   ]
  },
  {
   "cell_type": "code",
   "execution_count": null,
   "metadata": {},
   "outputs": [],
   "source": [
    "# hint1 you can also look at the dataframe to identify the column"
   ]
  },
  {
   "cell_type": "code",
   "execution_count": null,
   "metadata": {},
   "outputs": [],
   "source": [
    "#your answer here:"
   ]
  },
  {
   "cell_type": "markdown",
   "metadata": {},
   "source": [
    "&#9989; **Well done! The volume contains the number of stock papers and hence is on a different scale compared to the prices** <br>"
   ]
  },
  {
   "cell_type": "markdown",
   "metadata": {},
   "source": [
    "** The figure seems to be fine at first glance, however lets prettify the plot.**<br><br>"
   ]
  },
  {
   "cell_type": "markdown",
   "metadata": {},
   "source": [
    "## Formatting\n",
    "**1.** We want the **x-axis** to contain the **date**. <br>\n",
    "**2.** It would be nice, if the **column** information would be **split into individual plots** - We can identify important information easier.\n",
    "<br> \n",
    "\n",
    "In order to achieve task 1, we will need to read the csv file again, **activate parse dates** and **use the 'Date' column as the index** for the resulting dataframe called 'parsed_df'.<br>\n",
    "Can you do that in the next cell? <br>"
   ]
  },
  {
   "cell_type": "code",
   "execution_count": null,
   "metadata": {},
   "outputs": [],
   "source": [
    "df_parsed = pd.read_csv()"
   ]
  },
  {
   "cell_type": "markdown",
   "metadata": {},
   "source": [
    "_**hint:**_ [documentation of read_csv](https://pandas.pydata.org/pandas-docs/stable/generated/pandas.read_csv.html#pandas.read_csv)"
   ]
  },
  {
   "cell_type": "markdown",
   "metadata": {},
   "source": [
    "&#9989; **Exceptional!** <br>"
   ]
  },
  {
   "cell_type": "markdown",
   "metadata": {},
   "source": [
    "<br>**Now use a previously learned method to show the first few rows of the dataframe.<br>**\n",
    "You can see that the date is now the first column and the name 'Date' is indented to show that it is the 'index'."
   ]
  },
  {
   "cell_type": "code",
   "execution_count": null,
   "metadata": {},
   "outputs": [],
   "source": [
    "#your answer here:"
   ]
  },
  {
   "cell_type": "markdown",
   "metadata": {},
   "source": [
    "**Plot the dataframe again:**"
   ]
  },
  {
   "cell_type": "code",
   "execution_count": null,
   "metadata": {},
   "outputs": [],
   "source": [
    " #your answer here:"
   ]
  },
  {
   "cell_type": "markdown",
   "metadata": {},
   "source": [
    "&#9989; **Task 1 completed! - You have parsed the dates and plotted them on the x-axis!** <br> \n",
    "**GOOD JOB!** <br>\n",
    "\n",
    "***"
   ]
  },
  {
   "cell_type": "markdown",
   "metadata": {},
   "source": [
    "<br>\n",
    "<br>**On to task number 2:** <br>\n",
    "_Plot individual figures for the columns._\n",
    "\n",
    "**&#128161; **<br>\n",
    ">If you want to select the **Volume column** you could use the following syntax <br>\n",
    "> **df['Volume']**\n",
    "\n",
    "**Task: Please plot only the 'Open' column of the date-indexed dataframe**"
   ]
  },
  {
   "cell_type": "code",
   "execution_count": null,
   "metadata": {},
   "outputs": [],
   "source": [
    "#your answer here:"
   ]
  },
  {
   "cell_type": "markdown",
   "metadata": {},
   "source": [
    "**Almost there, now we only need to add a label for the y-axis to have a beautiful figure.** <br><br>\n",
    "**&#128161; **<br>\n",
    ">When you call df.plot() a plot object is returned, which when assigned to a variable can be modified!\n",
    "\n",
    "<br>\n",
    "\n",
    "**Task:** Please **plot the 'Open'** column again, only this time **assign it to the variable 'figure'.**"
   ]
  },
  {
   "cell_type": "code",
   "execution_count": null,
   "metadata": {},
   "outputs": [],
   "source": [
    "#your answer here:"
   ]
  },
  {
   "cell_type": "markdown",
   "metadata": {},
   "source": [
    "Now all that is left to do is to modify the y-axis label using the **set_ylabel('new label') method on the figure you created in the previous cell!** <br><br>\n",
    "**&#128161; **<br>\n",
    "> **set_ylabel()** modifies the **y-labels** <br>\n",
    "> and **set_xlabel()** changes the **x-labels**!\n",
    "\n",
    "** Task:** Please change the **y-label** to **'Value in USD [$]'. **"
   ]
  },
  {
   "cell_type": "code",
   "execution_count": null,
   "metadata": {},
   "outputs": [],
   "source": [
    "#your answer here:"
   ]
  },
  {
   "cell_type": "markdown",
   "metadata": {},
   "source": [
    "## Conclusion \n",
    "<br>\n",
    "<br>\n",
    "&#9989; **Well done! ** Why stop here, you can now visualize all of the columns and change their axis label!  <br>\n",
    "\n",
    "&#9989; **You created a plot of stock market data!** <br>\n",
    "&#9989; **You created a plot of a single column of a dataframe!** <br>\n",
    "&#9989; **You changed the axis label by modifying the plot object!** <br>\n",
    "\n",
    "\n",
    "***\n",
    "**You are doing incredibly well, let's continue next time with some formatting challenges** "
   ]
  }
 ],
 "metadata": {
  "kernelspec": {
   "display_name": "Python 3",
   "language": "python",
   "name": "python3"
  },
  "language_info": {
   "codemirror_mode": {
    "name": "ipython",
    "version": 3
   },
   "file_extension": ".py",
   "mimetype": "text/x-python",
   "name": "python",
   "nbconvert_exporter": "python",
   "pygments_lexer": "ipython3",
   "version": "3.6.3"
  }
 },
 "nbformat": 4,
 "nbformat_minor": 2
}
